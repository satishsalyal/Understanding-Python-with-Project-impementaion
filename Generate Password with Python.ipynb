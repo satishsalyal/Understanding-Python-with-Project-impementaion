{
 "cells": [
  {
   "cell_type": "code",
   "execution_count": 1,
   "id": "eb0a81f4",
   "metadata": {},
   "outputs": [
    {
     "name": "stdout",
     "output_type": "stream",
     "text": [
      "hello, Welcome to Password generator!\n",
      "\n",
      "Enter the length of password: 4\n",
      "3Q8l\n"
     ]
    }
   ],
   "source": [
    "'''\n",
    "Generate Password With Python\n",
    "Author: Satish Kumar\n",
    "'''\n",
    "\n",
    "#import the the requires modules\n",
    "import random\n",
    "import string\n",
    "\n",
    "print('hello, Welcome to Password generator!')\n",
    "\n",
    "#input the length of password\n",
    "length = int(input('\\nEnter the length of password: '))                      \n",
    "\n",
    "#define data\n",
    "lower = string.ascii_lowercase\n",
    "upper = string.ascii_uppercase\n",
    "num = string.digits\n",
    "symbols = string.punctuation\n",
    "#string.ascii_letters\n",
    "\n",
    "#combine the data\n",
    "all = lower + upper + num + symbols\n",
    "\n",
    "#use random \n",
    "temp = random.sample(all,length)\n",
    "\n",
    "#create the password \n",
    "password = \"\".join(temp)\n",
    "\n",
    "#print the password\n",
    "print(password)"
   ]
  },
  {
   "cell_type": "code",
   "execution_count": null,
   "id": "95527854",
   "metadata": {},
   "outputs": [],
   "source": []
  }
 ],
 "metadata": {
  "kernelspec": {
   "display_name": "Python 3 (ipykernel)",
   "language": "python",
   "name": "python3"
  },
  "language_info": {
   "codemirror_mode": {
    "name": "ipython",
    "version": 3
   },
   "file_extension": ".py",
   "mimetype": "text/x-python",
   "name": "python",
   "nbconvert_exporter": "python",
   "pygments_lexer": "ipython3",
   "version": "3.9.7"
  }
 },
 "nbformat": 4,
 "nbformat_minor": 5
}
