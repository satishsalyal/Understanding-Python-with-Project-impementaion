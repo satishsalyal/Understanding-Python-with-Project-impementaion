{
 "cells": [
  {
   "cell_type": "code",
   "execution_count": 3,
   "id": "fdb0047c",
   "metadata": {},
   "outputs": [],
   "source": [
    "'''\n",
    "Generate Password With Python\n",
    "Author: Satish Kumar\n",
    "'''\n",
    "\n",
    "#import the the requires modules\n",
    "import secrets\n",
    "import string"
   ]
  },
  {
   "cell_type": "code",
   "execution_count": null,
   "id": "f249d1e1",
   "metadata": {},
   "outputs": [
    {
     "name": "stdout",
     "output_type": "stream",
     "text": [
      "hello, Welcome to Password generator!\n"
     ]
    }
   ],
   "source": [
    "print('hello, Welcome to Password generator!')\n",
    "\n",
    "#input the length of password\n",
    "length = int(input('\\nEnter the length of password: ')) "
   ]
  },
  {
   "cell_type": "code",
   "execution_count": null,
   "id": "1b6ba712",
   "metadata": {},
   "outputs": [],
   "source": [
    "#define data\n",
    "lower = string.ascii_lowercase\n",
    "upper = string.ascii_uppercase\n",
    "num = string.digits\n",
    "symbols = string.punctuation"
   ]
  },
  {
   "cell_type": "code",
   "execution_count": null,
   "id": "aff9d969",
   "metadata": {},
   "outputs": [],
   "source": [
    "#combine the data\n",
    "alphabet = lower + upper + num + symbols"
   ]
  },
  {
   "cell_type": "code",
   "execution_count": null,
   "id": "553f9520",
   "metadata": {},
   "outputs": [],
   "source": [
    "\n",
    "# fix password length\n",
    "\n",
    "\n",
    "# generate a password string\n",
    "pwd = ''\n",
    "for i in range(length):\n",
    "  pwd += ''.join(secrets.choice(alphabet))\n",
    "\n",
    "print(pwd)\n",
    "\n",
    "# generate password meeting constraints\n",
    "while True:\n",
    "  pwd = ''\n",
    "  for i in range(pwd_length):\n",
    "    pwd += ''.join(secrets.choice(alphabet))\n",
    "\n",
    "  if (any(char in special_chars for char in pwd) and \n",
    "      sum(char in digits for char in pwd)>=2):\n",
    "          break\n"
   ]
  },
  {
   "cell_type": "code",
   "execution_count": null,
   "id": "e90408f6",
   "metadata": {},
   "outputs": [],
   "source": [
    "#print the password\n",
    "print(password)"
   ]
  }
 ],
 "metadata": {
  "kernelspec": {
   "display_name": "Python 3 (ipykernel)",
   "language": "python",
   "name": "python3"
  },
  "language_info": {
   "codemirror_mode": {
    "name": "ipython",
    "version": 3
   },
   "file_extension": ".py",
   "mimetype": "text/x-python",
   "name": "python",
   "nbconvert_exporter": "python",
   "pygments_lexer": "ipython3",
   "version": "3.9.7"
  }
 },
 "nbformat": 4,
 "nbformat_minor": 5
}
